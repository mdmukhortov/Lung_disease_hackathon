{
 "cells": [
  {
   "cell_type": "code",
   "execution_count": 8,
   "metadata": {
    "colab": {
     "base_uri": "https://localhost:8080/",
     "height": 34
    },
    "executionInfo": {
     "elapsed": 20335,
     "status": "ok",
     "timestamp": 1603114717668,
     "user": {
      "displayName": "Максим Мухортов",
      "photoUrl": "",
      "userId": "13948818793795969641"
     },
     "user_tz": -180
    },
    "id": "o42kmGqjFPTY",
    "outputId": "f112e28d-e656-4107-d5c0-727cc4b8335b"
   },
   "outputs": [
    {
     "name": "stdout",
     "output_type": "stream",
     "text": [
      "Mounted at /content/drive\n"
     ]
    }
   ],
   "source": [
    "from google.colab import drive\n",
    "drive.mount('/content/drive')"
   ]
  },
  {
   "cell_type": "code",
   "execution_count": 18,
   "metadata": {
    "executionInfo": {
     "elapsed": 12540,
     "status": "ok",
     "timestamp": 1603115214293,
     "user": {
      "displayName": "Максим Мухортов",
      "photoUrl": "",
      "userId": "13948818793795969641"
     },
     "user_tz": -180
    },
    "id": "DILlzhueM1MY"
   },
   "outputs": [],
   "source": [
    "%%capture\n",
    "!pip install flask-ngrok\n",
    "!pip install flask_cors\n",
    "!pip install efficientnet_pytorch\n",
    "!pip install ratelim"
   ]
  },
  {
   "cell_type": "code",
   "execution_count": 19,
   "metadata": {
    "executionInfo": {
     "elapsed": 1397,
     "status": "ok",
     "timestamp": 1603115215702,
     "user": {
      "displayName": "Максим Мухортов",
      "photoUrl": "",
      "userId": "13948818793795969641"
     },
     "user_tz": -180
    },
    "id": "HzgQMYBUNCI4"
   },
   "outputs": [],
   "source": [
    "import os\n",
    "import numpy as np\n",
    "import pandas as pd\n",
    "import matplotlib.pyplot as plt\n",
    "from itertools import cycle\n",
    "from scipy import interp\n",
    "import pickle\n",
    "from collections import defaultdict, OrderedDict\n",
    "from tqdm.notebook import tqdm\n",
    "import warnings\n",
    "from IPython.display import clear_output\n",
    "import ratelim\n",
    "\n",
    "\n",
    "from sklearn.metrics import roc_curve, auc, roc_auc_score, confusion_matrix\n",
    "from sklearn.model_selection import train_test_split\n",
    "\n",
    "\n",
    "import skimage.transform\n",
    "import cv2\n",
    "from PIL import Image\n",
    "import scipy.ndimage as ndimage\n",
    "import scipy.ndimage.filters as filters\n",
    "\n",
    "\n",
    "import albumentations as A\n",
    "import albumentations.augmentations.functional as F\n",
    "import albumentations.augmentations.transforms as T\n",
    "\n",
    "\n",
    "import torch\n",
    "import torch.nn as nn\n",
    "import torchvision\n",
    "import torchvision.transforms as transforms\n",
    "from torch.utils.data import Dataset, DataLoader\n",
    "from torch.nn import functional as F\n",
    "from torch.autograd import Variable\n",
    "import torch.optim as optim\n",
    "from torch.autograd import Function\n",
    "from torchvision import models, utils\n",
    "from efficientnet_pytorch import EfficientNet\n",
    "\n",
    "\n",
    "from flask_cors import CORS, cross_origin\n",
    "from flask import Flask, jsonify, request\n",
    "from flask_ngrok import run_with_ngrok\n"
   ]
  },
  {
   "cell_type": "code",
   "execution_count": 10,
   "metadata": {
    "colab": {
     "base_uri": "https://localhost:8080/",
     "height": 68
    },
    "executionInfo": {
     "elapsed": 1184,
     "status": "ok",
     "timestamp": 1603114789216,
     "user": {
      "displayName": "Максим Мухортов",
      "photoUrl": "",
      "userId": "13948818793795969641"
     },
     "user_tz": -180
    },
    "id": "UdI1LOSNNWRD",
    "outputId": "b6379814-a1e3-4cdf-db46-c449e60bcc1d"
   },
   "outputs": [
    {
     "name": "stdout",
     "output_type": "stream",
     "text": [
      "=> loading checkpoint\n",
      "=> loaded checkpoint\n",
      "densnet is ready\n"
     ]
    }
   ],
   "source": [
    "device = torch.device(\"cuda\" if torch.cuda.is_available() else \"cpu\")\n",
    "CLASS_NAMES = np.array(['Atelectasis', 'Cardiomegaly', 'Effusion',\n",
    "                        'Infiltration', 'Mass', 'Nodule', 'Pneumonia',\n",
    "                        'Pneumothorax', 'Consolidation', 'Edema', 'Emphysema',\n",
    "                        'Fibrosis', 'Pleural_Thickening', 'Hernia'])\n",
    "N_CLASSES = len(CLASS_NAMES)\n",
    "\n",
    "\n",
    "class DenseNet121(nn.Module):\n",
    "    \"\"\"Model modified.\n",
    "    The architecture of our model is the same as standard DenseNet121\n",
    "    except the classifier layer which has an additional sigmoid function.\n",
    "    \"\"\"\n",
    "    def __init__(self, out_size):\n",
    "        super(DenseNet121, self).__init__()\n",
    "        self.densenet121 = torchvision.models.densenet121(pretrained=True)\n",
    "        num_ftrs = self.densenet121.classifier.in_features\n",
    "        self.densenet121.classifier = nn.Sequential(\n",
    "            nn.Linear(num_ftrs, out_size),\n",
    "            nn.Sigmoid()\n",
    "        )\n",
    "\n",
    "    def forward(self, x):\n",
    "        x = self.densenet121(x)\n",
    "        return x\n",
    "\n",
    "torch.cuda.empty_cache()\n",
    "model = DenseNet121(N_CLASSES).to(device)\n",
    "\n",
    "torch.cuda.empty_cache()\n",
    "CKPT_PATH = '/models/densnet_best.pth'\n",
    "\n",
    "\n",
    "if os.path.isfile(CKPT_PATH):\n",
    "    print(\"=> loading checkpoint\")\n",
    "    state_dict = torch.load(CKPT_PATH)\n",
    "    model.load_state_dict(state_dict)\n",
    "    print(\"=> loaded checkpoint\")\n",
    "else:\n",
    "    print(\"=> no checkpoint found\")\n",
    "\n",
    "model.to(device)\n",
    "model.eval()\n",
    "print('densnet is ready')"
   ]
  },
  {
   "cell_type": "code",
   "execution_count": 66,
   "metadata": {
    "colab": {
     "base_uri": "https://localhost:8080/",
     "height": 85
    },
    "executionInfo": {
     "elapsed": 1506,
     "status": "ok",
     "timestamp": 1603119337264,
     "user": {
      "displayName": "Максим Мухортов",
      "photoUrl": "",
      "userId": "13948818793795969641"
     },
     "user_tz": -180
    },
    "id": "jROQuPCMFnSL",
    "outputId": "7b805250-bb42-4dae-f534-df56ad884db5"
   },
   "outputs": [
    {
     "name": "stdout",
     "output_type": "stream",
     "text": [
      "Loaded pretrained weights for efficientnet-b3\n",
      "=> loading checkpoint\n",
      "=> loaded checkpoint\n",
      "efficientnet is ready\n"
     ]
    }
   ],
   "source": [
    "class EfficientNetModel(nn.Module):\n",
    "\n",
    "    def __init__(self, out_size):\n",
    "        super(EfficientNetModel, self).__init__()\n",
    "\n",
    "        self.efficient_net = EfficientNet.from_pretrained('efficientnet-b3')\n",
    "        fltrs = self.efficient_net._fc.in_features\n",
    "        self.efficient_net._fc = nn.Sequential(\n",
    "                                                nn.Linear(in_features=fltrs, out_features=out_size, bias=True),\n",
    "                                                nn.Sigmoid()\n",
    "                                                )\n",
    "       # self.efficient_net._swish = nn.Softmax()\n",
    "\n",
    "    def forward(self, x):\n",
    "        x = self.efficient_net(x)\n",
    "        return x\n",
    "\n",
    "model_net = EfficientNetModel(N_CLASSES)\n",
    "model_net.to(device)\n",
    "\n",
    "torch.cuda.empty_cache()\n",
    "CKPT_PATH = '/models/efficientnet_best.pth'\n",
    "\n",
    "\n",
    "if os.path.isfile(CKPT_PATH):\n",
    "    print(\"=> loading checkpoint\")\n",
    "    state_dict = torch.load(CKPT_PATH)\n",
    "    model_net.load_state_dict(state_dict)\n",
    "    print(\"=> loaded checkpoint\")\n",
    "else:\n",
    "    print(\"=> no checkpoint found\")\n",
    "\n",
    "model_net.eval()\n",
    "print('efficientnet is ready')"
   ]
  },
  {
   "cell_type": "code",
   "execution_count": 67,
   "metadata": {
    "executionInfo": {
     "elapsed": 1068,
     "status": "ok",
     "timestamp": 1603119343876,
     "user": {
      "displayName": "Максим Мухортов",
      "photoUrl": "",
      "userId": "13948818793795969641"
     },
     "user_tz": -180
    },
    "id": "3M9nkHU8N5XD"
   },
   "outputs": [],
   "source": [
    "normalize = transforms.Normalize([0.485, 0.456, 0.406],\n",
    "                                  [0.229, 0.224, 0.225])\n",
    "\n",
    "transform = transforms.Compose([transforms.Resize(256),\n",
    "                                transforms.TenCrop(224),\n",
    "                                transforms.Lambda(\n",
    "                                    lambda crops: torch.stack([transforms.ToTensor()(crop) for crop in crops])\n",
    "                                    ),\n",
    "                                transforms.Lambda(\n",
    "                                    lambda crops: torch.stack([normalize(crop) for crop in crops])\n",
    "                                    ),\n",
    "                                ])"
   ]
  },
  {
   "cell_type": "code",
   "execution_count": 68,
   "metadata": {
    "executionInfo": {
     "elapsed": 991,
     "status": "ok",
     "timestamp": 1603119348016,
     "user": {
      "displayName": "Максим Мухортов",
      "photoUrl": "",
      "userId": "13948818793795969641"
     },
     "user_tz": -180
    },
    "id": "jzVItJXmOCOh"
   },
   "outputs": [],
   "source": [
    "with open('threshold_sc_14_densnet.pkl', 'rb') as f:\n",
    "    threshold_sc_14 = pickle.load(f)\n",
    "\n",
    "with open('threshold_sc_14_effnet.pkl', 'rb') as f:\n",
    "    threshold_sc_14_net = pickle.load(f)"
   ]
  },
  {
   "cell_type": "code",
   "execution_count": 69,
   "metadata": {
    "executionInfo": {
     "elapsed": 991,
     "status": "ok",
     "timestamp": 1603119356985,
     "user": {
      "displayName": "Максим Мухортов",
      "photoUrl": "",
      "userId": "13948818793795969641"
     },
     "user_tz": -180
    },
    "id": "NASF6S5vOM5S"
   },
   "outputs": [],
   "source": [
    "app = Flask(__name__)\n",
    "cors = CORS(app)\n",
    "app.config['CORS_HEADERS'] = 'Content-Type'\n",
    "\n",
    "run_with_ngrok(app)   #starts ngrok when the app is run\n",
    "\n",
    "def transform_image(image_bytes, transform):    \n",
    "    image = Image.fromarray(image_bytes).convert('RGB')\n",
    "    return transform(image).unsqueeze(0)\n",
    "\n",
    "def get_prediction(model, image_bytes, transform, threshold):\n",
    "    tensor = transform_image(image_bytes=image_bytes, transform=transform)\n",
    "    bs, n_crops, c, h, w = tensor.shape\n",
    "    input_var = tensor.view(-1, c, h, w).to(device)\n",
    "    output = model(input_var)\n",
    "    output_mean = output.view(bs, n_crops, -1).mean(1)\n",
    "    activated_classes = (output_mean.cpu().detach().numpy() > threshold)[0]\n",
    "    return CLASS_NAMES[activated_classes]\n",
    "\n",
    "@app.route('/submit_densnet', methods=['POST'])\n",
    "@ratelim.greedy(10, 5)\n",
    "@cross_origin()\n",
    "def predict_densnet():\n",
    "    if request.method == 'POST':\n",
    "        predict_dict = {'Labels': [], 'id': []}\n",
    "        filestr = request.files.getlist('file')\n",
    "        # convert string data to numpy array\n",
    "        for i in range(len(filestr)):\n",
    "            npimg = np.fromstring(filestr[i].read(), np.uint8)\n",
    "        # convert numpy array to image\n",
    "            img = cv2.imdecode(npimg, cv2.IMREAD_UNCHANGED)\n",
    "            class_names = get_prediction(model=model,\n",
    "                                         image_bytes=img,\n",
    "                                         transform=transform,\n",
    "                                         threshold=threshold_sc_14)\n",
    "            if len(class_names) > 0:\n",
    "                predict_dict['Labels'].append(', '.join(class_names.tolist()))\n",
    "            if len(filestr) > 1:\n",
    "                predict_dict['id'].append(filestr[i].filename)\n",
    "            else:\n",
    "                predict_dict['id'] = filestr[i].filename\n",
    "        return jsonify(predict_dict)\n",
    "  \n",
    "@app.route('/submit_effnet', methods=['POST'])\n",
    "@ratelim.greedy(10, 5)\n",
    "@cross_origin()\n",
    "def predict_effnet():\n",
    "    if request.method == 'POST':\n",
    "        predict_dict = {'Labels': [], 'id': []}\n",
    "        filestr = request.files.getlist('file')\n",
    "        # convert string data to numpy array\n",
    "        for i in range(len(filestr)):\n",
    "            npimg = np.fromstring(filestr[i].read(), np.uint8)\n",
    "            # convert numpy array to image\n",
    "            img = cv2.imdecode(npimg, cv2.IMREAD_UNCHANGED)\n",
    "            class_names = get_prediction(model=model_net,\n",
    "                                         image_bytes=img,\n",
    "                                         transform=transform,\n",
    "                                         threshold=threshold_sc_14_net)\n",
    "            if len(class_names) > 0:\n",
    "                predict_dict['Labels'].append(', '.join(class_names.tolist()))\n",
    "            if len(filestr) > 1:\n",
    "                predict_dict['id'].append(filestr[i].filename)\n",
    "            else:\n",
    "                predict_dict['id'] = filestr[i].filename\n",
    "        return jsonify(predict_dict)"
   ]
  },
  {
   "cell_type": "code",
   "execution_count": 70,
   "metadata": {
    "colab": {
     "base_uri": "https://localhost:8080/",
     "height": 275
    },
    "executionInfo": {
     "elapsed": 234203,
     "status": "ok",
     "timestamp": 1603119592147,
     "user": {
      "displayName": "Максим Мухортов",
      "photoUrl": "",
      "userId": "13948818793795969641"
     },
     "user_tz": -180
    },
    "id": "Gt4dcB7AOhgm",
    "outputId": "0df0d56a-28f7-43fb-f872-b2662d325167"
   },
   "outputs": [
    {
     "name": "stdout",
     "output_type": "stream",
     "text": [
      " * Serving Flask app \"__main__\" (lazy loading)\n",
      " * Environment: production\n",
      "\u001b[31m   WARNING: This is a development server. Do not use it in a production deployment.\u001b[0m\n",
      "\u001b[2m   Use a production WSGI server instead.\u001b[0m\n",
      " * Debug mode: off\n"
     ]
    },
    {
     "name": "stderr",
     "output_type": "stream",
     "text": [
      " * Running on http://127.0.0.1:5000/ (Press CTRL+C to quit)\n"
     ]
    },
    {
     "name": "stdout",
     "output_type": "stream",
     "text": [
      " * Running on http://dc4c11f6a859.ngrok.io\n",
      " * Traffic stats available on http://127.0.0.1:4040\n"
     ]
    },
    {
     "name": "stderr",
     "output_type": "stream",
     "text": [
      "/usr/local/lib/python3.6/dist-packages/ipykernel_launcher.py:29: DeprecationWarning: The binary mode of fromstring is deprecated, as it behaves surprisingly on unicode inputs. Use frombuffer instead\n",
      "127.0.0.1 - - [19/Oct/2020 14:56:37] \"\u001b[37mPOST /submit_densnet HTTP/1.1\u001b[0m\" 200 -\n",
      "/usr/local/lib/python3.6/dist-packages/ipykernel_launcher.py:53: DeprecationWarning: The binary mode of fromstring is deprecated, as it behaves surprisingly on unicode inputs. Use frombuffer instead\n",
      "127.0.0.1 - - [19/Oct/2020 14:56:42] \"\u001b[37mPOST /submit_effnet HTTP/1.1\u001b[0m\" 200 -\n",
      "127.0.0.1 - - [19/Oct/2020 14:59:08] \"\u001b[37mPOST /submit_densnet HTTP/1.1\u001b[0m\" 200 -\n",
      "127.0.0.1 - - [19/Oct/2020 14:59:24] \"\u001b[37mPOST /submit_effnet HTTP/1.1\u001b[0m\" 200 -\n"
     ]
    }
   ],
   "source": [
    "app.run()"
   ]
  },
  {
   "cell_type": "code",
   "execution_count": null,
   "metadata": {
    "id": "QqU53sFxWRha"
   },
   "outputs": [],
   "source": []
  }
 ],
 "metadata": {
  "accelerator": "GPU",
  "colab": {
   "name": "API.ipynb",
   "provenance": []
  },
  "hide_input": false,
  "kernelspec": {
   "display_name": "Python 3",
   "language": "python",
   "name": "python3"
  },
  "language_info": {
   "codemirror_mode": {
    "name": "ipython",
    "version": 3
   },
   "file_extension": ".py",
   "mimetype": "text/x-python",
   "name": "python",
   "nbconvert_exporter": "python",
   "pygments_lexer": "ipython3",
   "version": "3.7.4"
  },
  "varInspector": {
   "cols": {
    "lenName": 16,
    "lenType": 16,
    "lenVar": 40
   },
   "kernels_config": {
    "python": {
     "delete_cmd_postfix": "",
     "delete_cmd_prefix": "del ",
     "library": "var_list.py",
     "varRefreshCmd": "print(var_dic_list())"
    },
    "r": {
     "delete_cmd_postfix": ") ",
     "delete_cmd_prefix": "rm(",
     "library": "var_list.r",
     "varRefreshCmd": "cat(var_dic_list()) "
    }
   },
   "types_to_exclude": [
    "module",
    "function",
    "builtin_function_or_method",
    "instance",
    "_Feature"
   ],
   "window_display": false
  }
 },
 "nbformat": 4,
 "nbformat_minor": 1
}
